{
 "cells": [
  {
   "cell_type": "code",
   "execution_count": 2,
   "metadata": {},
   "outputs": [
    {
     "name": "stdout",
     "output_type": "stream",
     "text": [
      "Collecting GitPython\n",
      "  Downloading GitPython-3.1.43-py3-none-any.whl.metadata (13 kB)\n",
      "Collecting gitdb<5,>=4.0.1 (from GitPython)\n",
      "  Downloading gitdb-4.0.11-py3-none-any.whl.metadata (1.2 kB)\n",
      "Collecting smmap<6,>=3.0.1 (from gitdb<5,>=4.0.1->GitPython)\n",
      "  Downloading smmap-5.0.1-py3-none-any.whl.metadata (4.3 kB)\n",
      "Downloading GitPython-3.1.43-py3-none-any.whl (207 kB)\n",
      "Downloading gitdb-4.0.11-py3-none-any.whl (62 kB)\n",
      "Downloading smmap-5.0.1-py3-none-any.whl (24 kB)\n",
      "Installing collected packages: smmap, gitdb, GitPython\n",
      "Successfully installed GitPython-3.1.43 gitdb-4.0.11 smmap-5.0.1\n",
      "Note: you may need to restart the kernel to use updated packages.\n"
     ]
    }
   ],
   "source": [
    "pip install GitPython"
   ]
  },
  {
   "cell_type": "code",
   "execution_count": 27,
   "metadata": {},
   "outputs": [],
   "source": [
    "import git\n",
    "import os"
   ]
  },
  {
   "cell_type": "code",
   "execution_count": 28,
   "metadata": {},
   "outputs": [],
   "source": [
    "def find_repo_path():\n",
    "    repo = git.Repo('.', search_parent_directories=True)\n",
    "    repo_path = repo.working_tree_dir\n",
    "    return repo_path"
   ]
  },
  {
   "cell_type": "code",
   "execution_count": 32,
   "metadata": {},
   "outputs": [],
   "source": [
    "# def get_last_commit_changes(repo_path):\n",
    "#     repo = git.Repo(repo_path)\n",
    "#     head_commit = repo.head.commit\n",
    "\n",
    "#     diffs = head_commit.diff(None) \n",
    "\n",
    "#     changes = {}\n",
    "#     for diff in diffs:\n",
    "#         if diff.change_type in ['M', 'A']:\n",
    "#             file_path = os.path.join(repo_path, diff.b_path)\n",
    "#             with open(file_path, 'r') as file:\n",
    "#                 current_content = file.read()\n",
    "\n",
    "#             last_commit_content = (head_commit.tree / diff.b_path).data_stream.read().decode('utf-8')\n",
    "\n",
    "#             if current_content != last_commit_content:\n",
    "#                 changes[diff.b_path] = {\n",
    "#                     'last_commit': last_commit_content,\n",
    "#                     'current': current_content\n",
    "#                 }\n",
    "\n",
    "#     return changes\n",
    "def get_last_commit_changes(repo_path):\n",
    "    repo = git.Repo(repo_path)\n",
    "    head_commit = repo.head.commit\n",
    "\n",
    "    # Get the diff between the last commit and the working directory\n",
    "    diffs = head_commit.diff(None)  # None compares with working directory\n",
    "\n",
    "    changes = {\n",
    "        'modified': [],\n",
    "        'added': [],\n",
    "        'deleted': []\n",
    "    }\n",
    "\n",
    "    for diff in diffs:\n",
    "        file_path = os.path.join(repo_path, diff.b_path if diff.b_path else diff.a_path)\n",
    "\n",
    "        if diff.change_type == 'M':  # Modified files\n",
    "            with open(file_path, 'r') as file:\n",
    "                current_content = file.read()\n",
    "\n",
    "            # Get the content from the last commit\n",
    "            last_commit_content = (head_commit.tree / diff.b_path).data_stream.read().decode('utf-8')\n",
    "\n",
    "            if current_content != last_commit_content:\n",
    "                changes['modified'].append(diff.b_path)\n",
    "\n",
    "        elif diff.change_type == 'A':  # Added files\n",
    "            changes['added'].append(diff.b_path)\n",
    "\n",
    "        elif diff.change_type == 'D':  # Deleted files\n",
    "            changes['deleted'].append(diff.a_path)\n",
    "\n",
    "    return changes\n"
   ]
  },
  {
   "cell_type": "code",
   "execution_count": 30,
   "metadata": {},
   "outputs": [],
   "source": [
    "def compare_changes(changes):\n",
    "    modified_files = []\n",
    "    for file_name, content in changes.items():\n",
    "        if content['current'] != content['last_commit']:\n",
    "            modified_files.append(file_name)\n",
    "\n",
    "    return modified_files"
   ]
  },
  {
   "cell_type": "code",
   "execution_count": 33,
   "metadata": {},
   "outputs": [
    {
     "name": "stdout",
     "output_type": "stream",
     "text": [
      "{'modified': [], 'added': [], 'deleted': ['pyTest1.ipynb']}\n",
      "\n",
      "Deleted files:\n",
      "- pyTest1.ipynb\n"
     ]
    }
   ],
   "source": [
    "\n",
    "# repo_path = find_repo_path()\n",
    "# print(repo_path)\n",
    "# changes = get_last_commit_changes(repo_path)\n",
    "# modified_files = compare_changes(changes)\n",
    "\n",
    "# if modified_files:\n",
    "#     print(\"Modified files:\")\n",
    "#     for file in modified_files:\n",
    "#         print(f\"- {file}\")\n",
    "# else:\n",
    "#     print(\"No changes found.\")\n",
    "repo_path = find_repo_path()\n",
    "changes = get_last_commit_changes(repo_path)\n",
    "\n",
    "print(changes)\n",
    "\n",
    "if changes['modified']:\n",
    "    print(\"Modified files:\")\n",
    "    for file in changes['modified']:\n",
    "        print(f\"- {file}\")\n",
    "\n",
    "if changes['added']:\n",
    "    print(\"\\nAdded files:\")\n",
    "    for file in changes['added']:\n",
    "        print(f\"- {file}\")\n",
    "\n",
    "if changes['deleted']:\n",
    "    print(\"\\nDeleted files:\")\n",
    "    for file in changes['deleted']:\n",
    "        print(f\"- {file}\")\n",
    "\n",
    "if not (changes['modified'] or changes['added'] or changes['deleted']):\n",
    "    print(\"No changes found.\")"
   ]
  },
  {
   "cell_type": "code",
   "execution_count": null,
   "metadata": {},
   "outputs": [],
   "source": []
  }
 ],
 "metadata": {
  "kernelspec": {
   "display_name": "Python 3",
   "language": "python",
   "name": "python3"
  },
  "language_info": {
   "codemirror_mode": {
    "name": "ipython",
    "version": 3
   },
   "file_extension": ".py",
   "mimetype": "text/x-python",
   "name": "python",
   "nbconvert_exporter": "python",
   "pygments_lexer": "ipython3",
   "version": "3.12.5"
  }
 },
 "nbformat": 4,
 "nbformat_minor": 2
}
