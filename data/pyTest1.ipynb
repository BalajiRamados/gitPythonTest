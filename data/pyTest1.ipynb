{
 "cells": [
  {
   "cell_type": "code",
   "execution_count": 3,
   "metadata": {},
   "outputs": [],
   "source": [
    "data = [\n",
    "    {\n",
    "        \"Grade\": \"A\",\n",
    "        \"Marks\": {\n",
    "            \"Science\": 90,\n",
    "            \"English\": 78,\n",
    "            \"Computer\": 89,\n",
    "            \"Maths\": 89\n",
    "        }\n",
    "    },\n",
    "    {\n",
    "        \"Grade\": \"B\",\n",
    "        \"Marks\": {\n",
    "            \"Science\": 85,\n",
    "            \"English\": 88,\n",
    "            \"Computer\": 80,\n",
    "            \"Maths\": 76\n",
    "        }\n",
    "    },\n",
    "    {\n",
    "        \"Grade\": \"A\",\n",
    "        \"Marks\": {\n",
    "            \"Science\": 92,\n",
    "            \"English\": 81,\n",
    "            \"Computer\": 87,\n",
    "            \"Maths\": 93\n",
    "        }\n",
    "    },\n",
    "    {\n",
    "        \"Grade\": \"C\",\n",
    "        \"Marks\": {\n",
    "            \"Science\": 68,\n",
    "            \"English\": 72,\n",
    "            \"Computer\": 74,\n",
    "            \"Maths\": 70\n",
    "        }\n",
    "    },\n",
    "    {\n",
    "        \"Grade\": \"B\",\n",
    "        \"Marks\": {\n",
    "            \"Science\": 79,\n",
    "            \"English\": 83,\n",
    "            \"Computer\": 85,\n",
    "            \"Maths\": 82\n",
    "        }\n",
    "    },\n",
    "    {\n",
    "        \"Grade\": \"A\",\n",
    "        \"Marks\": {\n",
    "            \"Science\": 91,\n",
    "            \"English\": 87,\n",
    "            \"Computer\": 90,\n",
    "            \"Maths\": 89\n",
    "        }\n",
    "    },\n",
    "    {\n",
    "        \"Grade\": \"C\",\n",
    "        \"Marks\": {\n",
    "            \"Science\": 72,\n",
    "            \"English\": 65,\n",
    "            \"Computer\": 73,\n",
    "            \"Maths\": 69\n",
    "        }\n",
    "    },\n",
    "    {\n",
    "        \"Grade\": \"B\",\n",
    "        \"Marks\": {\n",
    "            \"Science\": 81,\n",
    "            \"English\": 78,\n",
    "            \"Computer\": 84,\n",
    "            \"Maths\": 79\n",
    "        }\n",
    "    },\n",
    "    {\n",
    "        \"Grade\": \"A\",\n",
    "        \"Marks\": {\n",
    "            \"Science\": 95,\n",
    "            \"English\": 89,\n",
    "            \"Computer\": 92,\n",
    "            \"Maths\": 94\n",
    "        }\n",
    "    },\n",
    "    {\n",
    "        \"Grade\": \"C\",\n",
    "        \"Marks\": {\n",
    "            \"Science\": 70,\n",
    "            \"English\": 68,\n",
    "            \"Computer\": 72,\n",
    "            \"Maths\": 66\n",
    "        }\n",
    "    }\n",
    "]"
   ]
  },
  {
   "cell_type": "code",
   "execution_count": 6,
   "metadata": {},
   "outputs": [
    {
     "name": "stdout",
     "output_type": "stream",
     "text": [
      "10\n"
     ]
    }
   ],
   "source": [
    "total_count = 0\n",
    "\n",
    "for i in range(0, len(data)):\n",
    "\n",
    "    total_count += data[i][\"Marks\"][\"Computer\"]\n",
    "\n",
    "print(total_count)"
   ]
  },
  {
   "cell_type": "code",
   "execution_count": 5,
   "metadata": {},
   "outputs": [
    {
     "name": "stdout",
     "output_type": "stream",
     "text": [
      "10\n"
     ]
    }
   ],
   "source": []
  },
  {
   "cell_type": "code",
   "execution_count": null,
   "metadata": {},
   "outputs": [],
   "source": []
  }
 ],
 "metadata": {
  "kernelspec": {
   "display_name": "Python 3",
   "language": "python",
   "name": "python3"
  },
  "language_info": {
   "codemirror_mode": {
    "name": "ipython",
    "version": 3
   },
   "file_extension": ".py",
   "mimetype": "text/x-python",
   "name": "python",
   "nbconvert_exporter": "python",
   "pygments_lexer": "ipython3",
   "version": "3.12.5"
  }
 },
 "nbformat": 4,
 "nbformat_minor": 2
}
