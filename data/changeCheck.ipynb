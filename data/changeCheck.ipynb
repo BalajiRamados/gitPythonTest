{
 "cells": [
  {
   "cell_type": "code",
   "execution_count": 2,
   "metadata": {},
   "outputs": [],
   "source": [
    "import git"
   ]
  },
  {
   "cell_type": "code",
   "execution_count": 3,
   "metadata": {},
   "outputs": [],
   "source": [
    "def find_repo_path():\n",
    "    repo = git.Repo('.', search_parent_directories=True)\n",
    "    repo_path = repo.working_tree_dir\n",
    "    return repo_path"
   ]
  },
  {
   "cell_type": "code",
   "execution_count": 7,
   "metadata": {},
   "outputs": [],
   "source": [
    "def get_last_commit_changes(repo_path):\n",
    "    repo = git.Repo(repo_path)\n",
    "    head_commit = repo.head.commit"
   ]
  },
  {
   "cell_type": "code",
   "execution_count": 10,
   "metadata": {},
   "outputs": [],
   "source": [
    "repo_path = find_repo_path()\n",
    "# get_last_commit_changes(repo_path)"
   ]
  },
  {
   "cell_type": "code",
   "execution_count": 11,
   "metadata": {},
   "outputs": [
    {
     "data": {
      "text/plain": [
       "'c:\\\\Users\\\\Balaji.Ramadass\\\\gitpython\\\\gitPythonTest'"
      ]
     },
     "execution_count": 11,
     "metadata": {},
     "output_type": "execute_result"
    }
   ],
   "source": [
    "repo_path"
   ]
  },
  {
   "cell_type": "code",
   "execution_count": 12,
   "metadata": {},
   "outputs": [
    {
     "name": "stdout",
     "output_type": "stream",
     "text": [
      "Found 3 commits in the repository:\n",
      "\n",
      "Commit: 2c17e48cdc14f70a9288e0f0d672ea2db961ef93\n",
      "Author: Balaji Ramadoss\n",
      "Date: 2024-08-21 18:00:52+05:30\n",
      "Message: second commit\n",
      "----------------------------------------\n",
      "Commit: aa49eb48420838efd1c6719ecbefcddeb4642fd8\n",
      "Author: Balaji Ramadoss\n",
      "Date: 2024-08-21 15:44:30+05:30\n",
      "Message: initial commit\n",
      "----------------------------------------\n",
      "Commit: a652bdb0aa926b9695c576249b7d492c188e2555\n",
      "Author: BalajiRamados\n",
      "Date: 2024-08-21 15:33:09+05:30\n",
      "Message: Initial commit\n",
      "----------------------------------------\n"
     ]
    }
   ],
   "source": [
    "import git\n",
    "\n",
    "def get_all_commits(repo_path):\n",
    "    repo = git.Repo(repo_path)\n",
    "\n",
    "    commits = []\n",
    "    for commit in repo.iter_commits():\n",
    "        commits.append({\n",
    "            'hash': commit.hexsha,\n",
    "            'author': commit.author.name,\n",
    "            'date': commit.committed_datetime,\n",
    "            'message': commit.message.strip()\n",
    "        })\n",
    "\n",
    "    return commits\n",
    "\n",
    "# Example usage\n",
    "repo_path = find_repo_path()\n",
    "commits = get_all_commits(repo_path)\n",
    "\n",
    "if commits:\n",
    "    print(f\"Found {len(commits)} commits in the repository:\\n\")\n",
    "    for commit in commits:\n",
    "        print(f\"Commit: {commit['hash']}\")\n",
    "        print(f\"Author: {commit['author']}\")\n",
    "        print(f\"Date: {commit['date']}\")\n",
    "        print(f\"Message: {commit['message']}\")\n",
    "        print(\"-\" * 40)\n",
    "else:\n",
    "    print(\"No commits found in the repository.\")\n"
   ]
  },
  {
   "cell_type": "code",
   "execution_count": null,
   "metadata": {},
   "outputs": [],
   "source": []
  }
 ],
 "metadata": {
  "kernelspec": {
   "display_name": "Python 3",
   "language": "python",
   "name": "python3"
  },
  "language_info": {
   "codemirror_mode": {
    "name": "ipython",
    "version": 3
   },
   "file_extension": ".py",
   "mimetype": "text/x-python",
   "name": "python",
   "nbconvert_exporter": "python",
   "pygments_lexer": "ipython3",
   "version": "3.12.5"
  }
 },
 "nbformat": 4,
 "nbformat_minor": 2
}
