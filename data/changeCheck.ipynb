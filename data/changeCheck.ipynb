{
 "cells": [
  {
   "cell_type": "code",
   "execution_count": 4,
   "metadata": {},
   "outputs": [],
   "source": [
    "import git"
   ]
  },
  {
   "cell_type": "code",
   "execution_count": 5,
   "metadata": {},
   "outputs": [],
   "source": [
    "def find_repo_path():\n",
    "    repo = git.Repo('.', search_parent_directories=True)\n",
    "    repo_path = repo.working_tree_dir\n",
    "    return repo_path"
   ]
  },
  {
   "cell_type": "code",
   "execution_count": 6,
   "metadata": {},
   "outputs": [
    {
     "name": "stdout",
     "output_type": "stream",
     "text": [
      "Found 7 commits in the repository:\n",
      "\n",
      "Commit: 2a77b965e59097d32a73f39c1080b5cd4075d848\n",
      "Author: Balaji Ramadoss\n",
      "Date: 2024-08-21 19:06:07+05:30\n",
      "Message: new fifth commit\n",
      "----------------------------------------\n",
      "Commit: 8d243f853f13bffc28fb21cd956a4a4f7e504866\n",
      "Author: Balaji Ramadoss\n",
      "Date: 2024-08-21 18:58:14+05:30\n",
      "Message: new fourth commit\n",
      "----------------------------------------\n",
      "Commit: cd40e0b4607145223e5729a6f3a8302ee88c1fc9\n",
      "Author: Balaji Ramadoss\n",
      "Date: 2024-08-21 18:23:36+05:30\n",
      "Message: new brranch fourth commit\n",
      "----------------------------------------\n",
      "Commit: 8e41da81a02711c43dd6bfc13330f123f5c1a37e\n",
      "Author: Balaji Ramadoss\n",
      "Date: 2024-08-21 18:19:39+05:30\n",
      "Message: third commit\n",
      "----------------------------------------\n",
      "Commit: 2c17e48cdc14f70a9288e0f0d672ea2db961ef93\n",
      "Author: Balaji Ramadoss\n",
      "Date: 2024-08-21 18:00:52+05:30\n",
      "Message: second commit\n",
      "----------------------------------------\n",
      "Commit: aa49eb48420838efd1c6719ecbefcddeb4642fd8\n",
      "Author: Balaji Ramadoss\n",
      "Date: 2024-08-21 15:44:30+05:30\n",
      "Message: initial commit\n",
      "----------------------------------------\n",
      "Commit: a652bdb0aa926b9695c576249b7d492c188e2555\n",
      "Author: BalajiRamados\n",
      "Date: 2024-08-21 15:33:09+05:30\n",
      "Message: Initial commit\n",
      "----------------------------------------\n"
     ]
    }
   ],
   "source": [
    "def get_all_commits(repo_path):\n",
    "    repo = git.Repo(repo_path)\n",
    "\n",
    "    commits = []\n",
    "    for commit in repo.iter_commits():\n",
    "        commits.append({\n",
    "            'hash': commit.hexsha,\n",
    "            'author': commit.author.name,\n",
    "            'date': commit.committed_datetime,\n",
    "            'message': commit.message.strip()\n",
    "        })\n",
    "\n",
    "    return commits\n",
    "\n",
    "# Example usage\n",
    "repo_path = find_repo_path()\n",
    "commits = get_all_commits(repo_path)\n",
    "\n",
    "if commits:\n",
    "    print(f\"Found {len(commits)} commits in the repository:\\n\")\n",
    "    for commit in commits:\n",
    "        print(f\"Commit: {commit['hash']}\")\n",
    "        print(f\"Author: {commit['author']}\")\n",
    "        print(f\"Date: {commit['date']}\")\n",
    "        print(f\"Message: {commit['message']}\")\n",
    "        print(\"-\" * 40)\n",
    "else:\n",
    "    print(\"No commits found in the repository.\")\n"
   ]
  }
 ],
 "metadata": {
  "kernelspec": {
   "display_name": "Python 3",
   "language": "python",
   "name": "python3"
  },
  "language_info": {
   "codemirror_mode": {
    "name": "ipython",
    "version": 3
   },
   "file_extension": ".py",
   "mimetype": "text/x-python",
   "name": "python",
   "nbconvert_exporter": "python",
   "pygments_lexer": "ipython3",
   "version": "3.12.5"
  }
 },
 "nbformat": 4,
 "nbformat_minor": 2
}
