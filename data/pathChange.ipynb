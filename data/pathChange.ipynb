{
 "cells": [
  {
   "cell_type": "code",
   "execution_count": 2,
   "metadata": {},
   "outputs": [],
   "source": [
    "paths = [\n",
    "    \"data/new1.py\",\n",
    "    \"data/new2.sql\",\n",
    "    \"data/newData/new3.sql\"\n",
    "    \"new4.sql\",\n",
    "    \"newData/newData2/newData3/new5.py\"\n",
    "]"
   ]
  },
  {
   "cell_type": "code",
   "execution_count": 4,
   "metadata": {},
   "outputs": [
    {
     "name": "stdout",
     "output_type": "stream",
     "text": [
      "data.new1\n",
      "data.new2\n",
      "data.newData.new3.sqlnew4\n",
      "newData.newData2.newData3.new5\n"
     ]
    }
   ],
   "source": [
    "import os\n",
    "\n",
    "def convert_paths(paths):\n",
    "    converted_paths = []\n",
    "    for path in paths:\n",
    "        # Remove the file extension\n",
    "        base_name = os.path.splitext(path)[0]\n",
    "        \n",
    "        # Replace '/' with '.'\n",
    "        converted_path = base_name.replace('/', '.')\n",
    "        \n",
    "        converted_paths.append(converted_path)\n",
    "    \n",
    "    return converted_paths\n",
    "\n",
    "converted_paths = convert_paths(paths)\n",
    "for path in converted_paths:\n",
    "    print(path)\n"
   ]
  },
  {
   "cell_type": "code",
   "execution_count": null,
   "metadata": {},
   "outputs": [],
   "source": []
  }
 ],
 "metadata": {
  "kernelspec": {
   "display_name": "Python 3",
   "language": "python",
   "name": "python3"
  },
  "language_info": {
   "codemirror_mode": {
    "name": "ipython",
    "version": 3
   },
   "file_extension": ".py",
   "mimetype": "text/x-python",
   "name": "python",
   "nbconvert_exporter": "python",
   "pygments_lexer": "ipython3",
   "version": "3.12.5"
  }
 },
 "nbformat": 4,
 "nbformat_minor": 2
}
